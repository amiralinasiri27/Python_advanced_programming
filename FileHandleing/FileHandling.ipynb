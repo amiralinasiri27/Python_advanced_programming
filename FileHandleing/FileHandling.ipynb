{
  "cells": [
    {
      "cell_type": "code",
      "execution_count": null,
      "id": "1d4024d2",
      "metadata": {},
      "outputs": [],
      "source": [
        "with open('data/dataFile.txt', 'r') as file:\n",
        "    line = file.read()\n",
        "    print(line)"
      ]
    },
    {
      "cell_type": "code",
      "execution_count": null,
      "id": "0ececa22",
      "metadata": {},
      "outputs": [],
      "source": [
        "with open('data/dataFile.txt', 'r') as file:\n",
        "    for line in file:\n",
        "        print(line)"
      ]
    },
    {
      "cell_type": "code",
      "execution_count": null,
      "id": "6a024c26",
      "metadata": {},
      "outputs": [],
      "source": [
        "file_path = 'data/dataFile.txt'\n",
        "\n",
        "with open(file_path) as file:\n",
        "    lines = file.readlines()\n",
        "\n",
        "for l in lines:\n",
        "    print(l)"
      ]
    },
    {
      "cell_type": "code",
      "execution_count": null,
      "id": "bb397ba5",
      "metadata": {},
      "outputs": [],
      "source": [
        "file_Path = 'data/dataFile.txt'\n",
        "\n",
        "with open(file_Path, 'a') as file:\n",
        "\n",
        "    file.write('\\n')\n",
        "\n",
        "    for i in range(10):\n",
        "        string = str(i) + '\\n'\n",
        "        file.write(string)"
      ]
    },
    {
      "cell_type": "code",
      "execution_count": null,
      "id": "2f3893a3",
      "metadata": {},
      "outputs": [],
      "source": [
        "file_Path = 'data/dataFile.txt'\n",
        "\n",
        "try:\n",
        "    with open(file_Path, 'r') as reader:\n",
        "\n",
        "        line = reader.read()\n",
        "\n",
        "except FileNotFoundError:\n",
        "    print('file is not exist')\n",
        "\n",
        "else:\n",
        "    words = line.split()\n",
        "    wordsCounter = len(words)\n",
        "    print(wordsCounter)\n",
        "\n",
        "finally:\n",
        "    print('27-10-83')"
      ]
    },
    {
      "cell_type": "code",
      "execution_count": null,
      "id": "34cd6b93",
      "metadata": {},
      "outputs": [],
      "source": [
        "import xlrd\n",
        "\n",
        "file_path = 'dataa.xlsx'\n",
        "\n",
        "wb = xlrd.open_workbook(file_path)\n",
        "\n",
        "sh = wb.sheet_by_index(0) \n",
        "\n",
        "for i in range(sh.nrows):\n",
        "    for j in range(sh.ncols):\n",
        "        print(sh.cell_value(i, j))"
      ]
    },
    {
      "cell_type": "code",
      "execution_count": null,
      "id": "b33c967f",
      "metadata": {},
      "outputs": [],
      "source": [
        "f = open(\"demofile3.txt\", \"w\")\n",
        "f.write(\"Woops I have deleted the content!\")\n",
        "f.close()"
      ]
    }
  ],
  "metadata": {
    "kernelspec": {
      "display_name": "Python 3",
      "language": "python",
      "name": "python3"
    },
    "language_info": {
      "codemirror_mode": {
        "version": 3
      },
      "file_extension": ".py",
      "mimetype": "text/x-python",
      "name": "python",
      "nbconvert_exporter": "python",
      "pygments_lexer": "ipython3",
      "version": "3.9.7"
    }
  },
  "nbformat": 4,
  "nbformat_minor": 5
}
